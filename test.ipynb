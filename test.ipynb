{
 "cells": [
  {
   "cell_type": "code",
   "execution_count": 9,
   "id": "7a4ee903",
   "metadata": {},
   "outputs": [
    {
     "data": {
      "text/plain": [
       "Document('data/Tesla_Manual.pdf')"
      ]
     },
     "execution_count": 9,
     "metadata": {},
     "output_type": "execute_result"
    }
   ],
   "source": [
    "import fitz\n",
    "\n",
    "pdf = fitz.open(\"data/Tesla_Manual.pdf\")\n",
    "pdf"
   ]
  },
  {
   "cell_type": "code",
   "execution_count": 47,
   "id": "3562f1ca",
   "metadata": {},
   "outputs": [],
   "source": [
    "from src.fields.manual_images import ManualImages\n",
    "\n",
    "a = ManualImages(\n",
    "    page=1,\n",
    "    image_path=\"111.111\",\n",
    "    title=\"11111\"\n",
    ")"
   ]
  },
  {
   "cell_type": "code",
   "execution_count": 50,
   "id": "9ccc49f4",
   "metadata": {},
   "outputs": [
    {
     "data": {
      "text/plain": [
       "'{\"page\":1,\"image_path\":\"111.111\",\"title\":\"11111\"}'"
      ]
     },
     "execution_count": 50,
     "metadata": {},
     "output_type": "execute_result"
    }
   ],
   "source": [
    "a.model_dump_json()"
   ]
  },
  {
   "cell_type": "code",
   "execution_count": 56,
   "id": "14727b35",
   "metadata": {},
   "outputs": [
    {
     "data": {
      "text/plain": [
       "'4124bc0a9335c27f086f24ba207a4912'"
      ]
     },
     "execution_count": 56,
     "metadata": {},
     "output_type": "execute_result"
    }
   ],
   "source": [
    "import hashlib\n",
    "\n",
    "text = \"aa\"\n",
    "\n",
    "hashlib.md5(text.encode(\"utf-8\")).hexdigest()"
   ]
  },
  {
   "cell_type": "code",
   "execution_count": null,
   "id": "e87c4bb5",
   "metadata": {},
   "outputs": [],
   "source": []
  }
 ],
 "metadata": {
  "kernelspec": {
   "display_name": "rag",
   "language": "python",
   "name": "python3"
  },
  "language_info": {
   "codemirror_mode": {
    "name": "ipython",
    "version": 3
   },
   "file_extension": ".py",
   "mimetype": "text/x-python",
   "name": "python",
   "nbconvert_exporter": "python",
   "pygments_lexer": "ipython3",
   "version": "3.12.11"
  }
 },
 "nbformat": 4,
 "nbformat_minor": 5
}
